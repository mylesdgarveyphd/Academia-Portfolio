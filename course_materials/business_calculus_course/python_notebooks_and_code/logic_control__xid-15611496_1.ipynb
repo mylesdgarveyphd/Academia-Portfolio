{
 "cells": [
  {
   "cell_type": "markdown",
   "metadata": {},
   "source": [
    "So there are two forms of \"Logic Control\": Conditionals and Iterations"
   ]
  },
  {
   "cell_type": "markdown",
   "metadata": {},
   "source": [
    "First, we look at \"if-else\" statements.  The thing to remember here is that after you put \"if\", you need to put a \"condition\" (in the example below, the \"condition\" is x==5).  Then after the condition, you type \":\", then enter, then tab, although, in Jupyter Notebook, the tab is automatically put in.  If working in a text file, you absolutely need to ensure that the tab is there."
   ]
  },
  {
   "cell_type": "code",
   "execution_count": 1,
   "metadata": {},
   "outputs": [],
   "source": [
    "x=6"
   ]
  },
  {
   "cell_type": "code",
   "execution_count": 2,
   "metadata": {},
   "outputs": [
    {
     "name": "stdout",
     "output_type": "stream",
     "text": [
      "X is NOT equal to 5!\n"
     ]
    }
   ],
   "source": [
    "if x == 5:\n",
    "    print(\"X is indeed equal to 5\")\n",
    "else:\n",
    "    print(\"X is NOT equal to 5!\")"
   ]
  },
  {
   "cell_type": "code",
   "execution_count": 3,
   "metadata": {},
   "outputs": [
    {
     "data": {
      "text/plain": [
       "False"
      ]
     },
     "execution_count": 3,
     "metadata": {},
     "output_type": "execute_result"
    }
   ],
   "source": [
    "x==5"
   ]
  },
  {
   "cell_type": "code",
   "execution_count": 4,
   "metadata": {},
   "outputs": [],
   "source": [
    "if x%2==0:\n",
    "    x=x+2\n",
    "    x=3*x\n",
    "else:\n",
    "    x=x+3\n",
    "    x=2*x"
   ]
  },
  {
   "cell_type": "code",
   "execution_count": 5,
   "metadata": {},
   "outputs": [
    {
     "data": {
      "text/plain": [
       "24"
      ]
     },
     "execution_count": 5,
     "metadata": {},
     "output_type": "execute_result"
    }
   ],
   "source": [
    "x"
   ]
  },
  {
   "cell_type": "code",
   "execution_count": 6,
   "metadata": {},
   "outputs": [],
   "source": [
    "x=5"
   ]
  },
  {
   "cell_type": "markdown",
   "metadata": {},
   "source": [
    "What would happen if we forgot to put the tabs?"
   ]
  },
  {
   "cell_type": "code",
   "execution_count": 7,
   "metadata": {},
   "outputs": [],
   "source": [
    "if x%2==0:\n",
    "    x=x+2\n",
    "x=3*x"
   ]
  },
  {
   "cell_type": "code",
   "execution_count": 8,
   "metadata": {},
   "outputs": [
    {
     "data": {
      "text/plain": [
       "15"
      ]
     },
     "execution_count": 8,
     "metadata": {},
     "output_type": "execute_result"
    }
   ],
   "source": [
    "x"
   ]
  },
  {
   "cell_type": "markdown",
   "metadata": {},
   "source": [
    "When we run that code, if $x=5$, then we get $15$ instead of $5$.  If its odd, we didn't want to change the number $x$.  How do to fix this?  Easy!  Add a tab!"
   ]
  },
  {
   "cell_type": "code",
   "execution_count": 9,
   "metadata": {},
   "outputs": [],
   "source": [
    "x=5\n",
    "if x%2==0:\n",
    "    x=x+2\n",
    "    x=3*x"
   ]
  },
  {
   "cell_type": "code",
   "execution_count": 10,
   "metadata": {},
   "outputs": [
    {
     "data": {
      "text/plain": [
       "5"
      ]
     },
     "execution_count": 10,
     "metadata": {},
     "output_type": "execute_result"
    }
   ],
   "source": [
    "x"
   ]
  },
  {
   "cell_type": "markdown",
   "metadata": {},
   "source": [
    "What about iterations?  Well, there are two types of iteration: for loops and while loops.  Let's first look at while loops:"
   ]
  },
  {
   "cell_type": "code",
   "execution_count": 11,
   "metadata": {},
   "outputs": [],
   "source": [
    "x=1\n",
    "\n",
    "x+=1\n",
    "x+=1\n",
    "x+=1"
   ]
  },
  {
   "cell_type": "markdown",
   "metadata": {},
   "source": [
    "How can run the code above in a shorter way?"
   ]
  },
  {
   "cell_type": "code",
   "execution_count": 12,
   "metadata": {},
   "outputs": [
    {
     "name": "stdout",
     "output_type": "stream",
     "text": [
      "2\n",
      "3\n",
      "4\n",
      "5\n"
     ]
    }
   ],
   "source": [
    "x=1\n",
    "\n",
    "while x<=4:\n",
    "    x+=1\n",
    "    print(x)"
   ]
  },
  {
   "cell_type": "code",
   "execution_count": 13,
   "metadata": {},
   "outputs": [
    {
     "data": {
      "text/plain": [
       "5"
      ]
     },
     "execution_count": 13,
     "metadata": {},
     "output_type": "execute_result"
    }
   ],
   "source": [
    "x"
   ]
  },
  {
   "cell_type": "code",
   "execution_count": 14,
   "metadata": {},
   "outputs": [
    {
     "data": {
      "text/plain": [
       "False"
      ]
     },
     "execution_count": 14,
     "metadata": {},
     "output_type": "execute_result"
    }
   ],
   "source": [
    "x<=4"
   ]
  },
  {
   "cell_type": "markdown",
   "metadata": {},
   "source": [
    "The For Loop:"
   ]
  },
  {
   "cell_type": "code",
   "execution_count": 15,
   "metadata": {},
   "outputs": [
    {
     "name": "stdout",
     "output_type": "stream",
     "text": [
      "[1, 2, 3, 4, 5, 6, 7, 8, 9, 10, 11, 12, 13, 14, 15, 16, 17, 18, 19, 20, 21, 22, 23, 24, 25]\n",
      "It's not divisible by 3!\n",
      "It's not divisible by 3!\n",
      "It's divisible by 3!\n",
      "It's not divisible by 3!\n",
      "It's not divisible by 3!\n",
      "It's divisible by 3!\n",
      "It's not divisible by 3!\n",
      "It's not divisible by 3!\n",
      "It's divisible by 3!\n",
      "It's not divisible by 3!\n",
      "It's not divisible by 3!\n",
      "It's divisible by 3!\n",
      "It's not divisible by 3!\n",
      "It's not divisible by 3!\n",
      "It's divisible by 3!\n",
      "It's not divisible by 3!\n",
      "It's not divisible by 3!\n",
      "It's divisible by 3!\n",
      "It's not divisible by 3!\n",
      "It's not divisible by 3!\n",
      "It's divisible by 3!\n",
      "It's not divisible by 3!\n",
      "It's not divisible by 3!\n",
      "It's divisible by 3!\n",
      "It's not divisible by 3!\n",
      "We're Done!\n"
     ]
    }
   ],
   "source": [
    "theNumbers=range(1,26,1)\n",
    "print(theNumbers)\n",
    "#Iterate through the list and check is each number is divisible by 3:\n",
    "for i in theNumbers:\n",
    "    if i%3==0:\n",
    "        print(\"It's divisible by 3!\")\n",
    "    else:\n",
    "        print(\"It's not divisible by 3!\")\n",
    "        \n",
    "print(\"We're Done!\")"
   ]
  },
  {
   "cell_type": "code",
   "execution_count": 16,
   "metadata": {},
   "outputs": [
    {
     "data": {
      "text/plain": [
       "[1,\n",
       " 2,\n",
       " 3,\n",
       " 4,\n",
       " 5,\n",
       " 6,\n",
       " 7,\n",
       " 8,\n",
       " 9,\n",
       " 10,\n",
       " 11,\n",
       " 12,\n",
       " 13,\n",
       " 14,\n",
       " 15,\n",
       " 16,\n",
       " 17,\n",
       " 18,\n",
       " 19,\n",
       " 20,\n",
       " 21,\n",
       " 22,\n",
       " 23,\n",
       " 24,\n",
       " 25]"
      ]
     },
     "execution_count": 16,
     "metadata": {},
     "output_type": "execute_result"
    }
   ],
   "source": [
    "theNumbers"
   ]
  },
  {
   "cell_type": "code",
   "execution_count": 17,
   "metadata": {},
   "outputs": [
    {
     "name": "stdout",
     "output_type": "stream",
     "text": [
      "[1, 2, 3, 4, 5, 6, 7, 8, 9, 10, 11, 12, 13, 14, 15, 16, 17, 18, 19, 20, 21, 22, 23, 24, 25]\n",
      "It's not divisible by 3!\n",
      "It's not divisible by 3!\n",
      "It's divisible by 3!\n",
      "It's not divisible by 3!\n",
      "It's not divisible by 3!\n",
      "It's divisible by 3!\n",
      "It's not divisible by 3!\n",
      "It's not divisible by 3!\n",
      "It's divisible by 3!\n",
      "It's not divisible by 3!\n",
      "It's not divisible by 3!\n",
      "It's divisible by 3!\n",
      "It's not divisible by 3!\n",
      "It's not divisible by 3!\n",
      "It's divisible by 3!\n",
      "It's not divisible by 3!\n",
      "It's not divisible by 3!\n",
      "It's divisible by 3!\n",
      "It's not divisible by 3!\n",
      "It's not divisible by 3!\n",
      "It's divisible by 3!\n",
      "It's not divisible by 3!\n",
      "It's not divisible by 3!\n",
      "It's divisible by 3!\n",
      "It's not divisible by 3!\n",
      "We're Done!\n"
     ]
    }
   ],
   "source": [
    "#Alternative Execution:\n",
    "theNumbers=range(1,26,1)\n",
    "print(theNumbers)\n",
    "#Iterate through the list and check is each number is divisible by 3:\n",
    "\n",
    "i=theNumbers[0]\n",
    "if i%3==0:\n",
    "    print(\"It's divisible by 3!\")\n",
    "else:\n",
    "    print(\"It's not divisible by 3!\")\n",
    "i=theNumbers[1]\n",
    "if i%3==0:\n",
    "    print(\"It's divisible by 3!\")\n",
    "else:\n",
    "    print(\"It's not divisible by 3!\")\n",
    "\n",
    "i=theNumbers[2]\n",
    "if i%3==0:\n",
    "    print(\"It's divisible by 3!\")\n",
    "else:\n",
    "    print(\"It's not divisible by 3!\")\n",
    "i=theNumbers[3]\n",
    "if i%3==0:\n",
    "    print(\"It's divisible by 3!\")\n",
    "else:\n",
    "    print(\"It's not divisible by 3!\")\n",
    "\n",
    "i=theNumbers[4]\n",
    "if i%3==0:\n",
    "    print(\"It's divisible by 3!\")\n",
    "else:\n",
    "    print(\"It's not divisible by 3!\")\n",
    "\n",
    "i=theNumbers[5]\n",
    "if i%3==0:\n",
    "    print(\"It's divisible by 3!\")\n",
    "else:\n",
    "    print(\"It's not divisible by 3!\")\n",
    "\n",
    "i=theNumbers[6]\n",
    "if i%3==0:\n",
    "    print(\"It's divisible by 3!\")\n",
    "else:\n",
    "    print(\"It's not divisible by 3!\")\n",
    "i=theNumbers[7]\n",
    "if i%3==0:\n",
    "    print(\"It's divisible by 3!\")\n",
    "else:\n",
    "    print(\"It's not divisible by 3!\")\n",
    "\n",
    "i=theNumbers[8]\n",
    "if i%3==0:\n",
    "    print(\"It's divisible by 3!\")\n",
    "else:\n",
    "    print(\"It's not divisible by 3!\")\n",
    "\n",
    "i=theNumbers[9]\n",
    "if i%3==0:\n",
    "    print(\"It's divisible by 3!\")\n",
    "else:\n",
    "    print(\"It's not divisible by 3!\")\n",
    "\n",
    "i=theNumbers[10]\n",
    "if i%3==0:\n",
    "    print(\"It's divisible by 3!\")\n",
    "else:\n",
    "    print(\"It's not divisible by 3!\")\n",
    "i=theNumbers[11]\n",
    "if i%3==0:\n",
    "    print(\"It's divisible by 3!\")\n",
    "else:\n",
    "    print(\"It's not divisible by 3!\")\n",
    "\n",
    "i=theNumbers[12]\n",
    "if i%3==0:\n",
    "    print(\"It's divisible by 3!\")\n",
    "else:\n",
    "    print(\"It's not divisible by 3!\")\n",
    "\n",
    "i=theNumbers[13]\n",
    "if i%3==0:\n",
    "    print(\"It's divisible by 3!\")\n",
    "else:\n",
    "    print(\"It's not divisible by 3!\")\n",
    "\n",
    "i=theNumbers[14]\n",
    "if i%3==0:\n",
    "    print(\"It's divisible by 3!\")\n",
    "else:\n",
    "    print(\"It's not divisible by 3!\")\n",
    "i=theNumbers[15]\n",
    "if i%3==0:\n",
    "    print(\"It's divisible by 3!\")\n",
    "else:\n",
    "    print(\"It's not divisible by 3!\")\n",
    "\n",
    "i=theNumbers[16]\n",
    "if i%3==0:\n",
    "    print(\"It's divisible by 3!\")\n",
    "else:\n",
    "    print(\"It's not divisible by 3!\")\n",
    "\n",
    "i=theNumbers[17]\n",
    "if i%3==0:\n",
    "    print(\"It's divisible by 3!\")\n",
    "else:\n",
    "    print(\"It's not divisible by 3!\")\n",
    "\n",
    "i=theNumbers[18]\n",
    "if i%3==0:\n",
    "    print(\"It's divisible by 3!\")\n",
    "else:\n",
    "    print(\"It's not divisible by 3!\")\n",
    "\n",
    "i=theNumbers[19]\n",
    "if i%3==0:\n",
    "    print(\"It's divisible by 3!\")\n",
    "else:\n",
    "    print(\"It's not divisible by 3!\")\n",
    "i=theNumbers[20]\n",
    "if i%3==0:\n",
    "    print(\"It's divisible by 3!\")\n",
    "else:\n",
    "    print(\"It's not divisible by 3!\")\n",
    "\n",
    "i=theNumbers[21]\n",
    "if i%3==0:\n",
    "    print(\"It's divisible by 3!\")\n",
    "else:\n",
    "    print(\"It's not divisible by 3!\")\n",
    "\n",
    "i=theNumbers[22]\n",
    "if i%3==0:\n",
    "    print(\"It's divisible by 3!\")\n",
    "else:\n",
    "    print(\"It's not divisible by 3!\")\n",
    "\n",
    "i=theNumbers[23]\n",
    "if i%3==0:\n",
    "    print(\"It's divisible by 3!\")\n",
    "else:\n",
    "    print(\"It's not divisible by 3!\")\n",
    "i=theNumbers[24]\n",
    "if i%3==0:\n",
    "    print(\"It's divisible by 3!\")\n",
    "else:\n",
    "    print(\"It's not divisible by 3!\")\n",
    "\n",
    "print(\"We're Done!\")\n",
    "    \n",
    "    "
   ]
  },
  {
   "cell_type": "markdown",
   "metadata": {},
   "source": [
    "Let's make a number guessing game!"
   ]
  },
  {
   "cell_type": "code",
   "execution_count": 19,
   "metadata": {},
   "outputs": [
    {
     "name": "stdout",
     "output_type": "stream",
     "text": [
      "Guess a Number!\n",
      "4\n",
      "You got the guess wrong!  Try again:\n",
      "6\n",
      "You got the guess wrong!  Try again:\n",
      "3\n",
      "You got the guess wrong!  Try again:\n",
      "7\n",
      "You got the guess wrong!  Try again:\n",
      "7\n",
      "You Lost the Game!\n"
     ]
    }
   ],
   "source": [
    "import random\n",
    "\n",
    "randNumber = random.randint(1,10)\n",
    "print(\"Guess a Number!\")\n",
    "\n",
    "guess=int(input())\n",
    "theCount = 1\n",
    "\n",
    "while(guess!=randNumber and theCount<5):\n",
    "    print(\"You got the guess wrong!  Try again:\")\n",
    "    guess=int(input())\n",
    "    theCount+=1\n",
    "    if(guess==randNumber):\n",
    "        print(\"You Won the Game!\")\n",
    "        \n",
    "if(guess!=randNumber):\n",
    "    print(\"You Lost the Game!\")"
   ]
  },
  {
   "cell_type": "code",
   "execution_count": null,
   "metadata": {},
   "outputs": [],
   "source": []
  }
 ],
 "metadata": {
  "kernelspec": {
   "display_name": "Python 2",
   "language": "python",
   "name": "python2"
  },
  "language_info": {
   "codemirror_mode": {
    "name": "ipython",
    "version": 2
   },
   "file_extension": ".py",
   "mimetype": "text/x-python",
   "name": "python",
   "nbconvert_exporter": "python",
   "pygments_lexer": "ipython2",
   "version": "2.7.16"
  }
 },
 "nbformat": 4,
 "nbformat_minor": 2
}
